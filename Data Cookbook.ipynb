{
 "cells": [
  {
   "cell_type": "markdown",
   "id": "96a208a0",
   "metadata": {},
   "source": [
    "# Data Cookbook"
   ]
  },
  {
   "cell_type": "markdown",
   "id": "44d8b8fc",
   "metadata": {},
   "source": [
    "This \"data cookbook\" will contain 4 recipes that will explain how to do 4 important calculations or functions in pandas. "
   ]
  },
  {
   "cell_type": "code",
   "execution_count": 17,
   "id": "3e5f9e45",
   "metadata": {},
   "outputs": [],
   "source": [
    "#Reminder importing for necessary packages\n",
    "import pandas as pd\n",
    "import numpy as np\n",
    "from matplotlib import pyplot as plt\n",
    "# Requests lets us grab info from a web page\n",
    "import requests\n",
    "# BeautifulSoup parses and searches that info\n",
    "from bs4 import BeautifulSoup\n",
    "import seaborn as sns"
   ]
  },
  {
   "cell_type": "markdown",
   "id": "4309ab56",
   "metadata": {},
   "source": [
    "## Recipe 1: Scraping a website using beautiful soup"
   ]
  },
  {
   "cell_type": "markdown",
   "id": "3e77338c",
   "metadata": {},
   "source": [
    "Scraping a website using beautiful soup requires the requests and BeatifulSoup packages. "
   ]
  },
  {
   "cell_type": "code",
   "execution_count": 3,
   "id": "4fe49709",
   "metadata": {},
   "outputs": [],
   "source": [
    "# Create a variable called URL\n",
    "url = \"https://athletics.whitman.edu/sports/mens-soccer/stats/2023\"\n",
    "\n",
    "# Use requests.get to grab the html\n",
    "my_html = requests.get(url)\n",
    "\n",
    "#Turn the html into soup using BeautifulSoup\n",
    "soup = BeautifulSoup(my_html.text, 'html')"
   ]
  },
  {
   "cell_type": "markdown",
   "id": "71e9bd31",
   "metadata": {},
   "source": [
    "Once the website is turned into beautiful soup, you can use tags to search for specific features/text in the website. For example, here I am scraping the Whitman Athletics page for the 2023 Men's soccer statistics. "
   ]
  },
  {
   "cell_type": "markdown",
   "id": "ef3f8d17",
   "metadata": {},
   "source": [
    "For Recipes 2 and 3, I will be using a data frame I created in a previous project of the statistics for the Whitworth, Pacific Lutheran, and Whitman men's soccer team in 2023. "
   ]
  },
  {
   "cell_type": "code",
   "execution_count": 8,
   "id": "44f6a821",
   "metadata": {},
   "outputs": [
    {
     "data": {
      "text/html": [
       "<div>\n",
       "<style scoped>\n",
       "    .dataframe tbody tr th:only-of-type {\n",
       "        vertical-align: middle;\n",
       "    }\n",
       "\n",
       "    .dataframe tbody tr th {\n",
       "        vertical-align: top;\n",
       "    }\n",
       "\n",
       "    .dataframe thead th {\n",
       "        text-align: right;\n",
       "    }\n",
       "</style>\n",
       "<table border=\"1\" class=\"dataframe\">\n",
       "  <thead>\n",
       "    <tr style=\"text-align: right;\">\n",
       "      <th></th>\n",
       "      <th>Unnamed: 0</th>\n",
       "      <th>Player</th>\n",
       "      <th>Number</th>\n",
       "      <th>Points</th>\n",
       "      <th>Minutes</th>\n",
       "      <th>Position</th>\n",
       "      <th>School</th>\n",
       "      <th>Efficiency</th>\n",
       "    </tr>\n",
       "  </thead>\n",
       "  <tbody>\n",
       "    <tr>\n",
       "      <th>0</th>\n",
       "      <td>0</td>\n",
       "      <td>McAllister, Lucas</td>\n",
       "      <td>2</td>\n",
       "      <td>17</td>\n",
       "      <td>1112</td>\n",
       "      <td>M/F</td>\n",
       "      <td>WC</td>\n",
       "      <td>0.015288</td>\n",
       "    </tr>\n",
       "    <tr>\n",
       "      <th>1</th>\n",
       "      <td>1</td>\n",
       "      <td>Gomez, Christian</td>\n",
       "      <td>8</td>\n",
       "      <td>16</td>\n",
       "      <td>1119</td>\n",
       "      <td>M</td>\n",
       "      <td>WC</td>\n",
       "      <td>0.014298</td>\n",
       "    </tr>\n",
       "    <tr>\n",
       "      <th>2</th>\n",
       "      <td>2</td>\n",
       "      <td>Romero, Edwin</td>\n",
       "      <td>9</td>\n",
       "      <td>16</td>\n",
       "      <td>1216</td>\n",
       "      <td>F</td>\n",
       "      <td>WC</td>\n",
       "      <td>0.013158</td>\n",
       "    </tr>\n",
       "    <tr>\n",
       "      <th>3</th>\n",
       "      <td>3</td>\n",
       "      <td>Valero, Sawyer</td>\n",
       "      <td>7</td>\n",
       "      <td>14</td>\n",
       "      <td>1068</td>\n",
       "      <td>F</td>\n",
       "      <td>WC</td>\n",
       "      <td>0.013109</td>\n",
       "    </tr>\n",
       "    <tr>\n",
       "      <th>4</th>\n",
       "      <td>4</td>\n",
       "      <td>Burrill, Jacob</td>\n",
       "      <td>11</td>\n",
       "      <td>12</td>\n",
       "      <td>909</td>\n",
       "      <td>F</td>\n",
       "      <td>WC</td>\n",
       "      <td>0.013201</td>\n",
       "    </tr>\n",
       "    <tr>\n",
       "      <th>5</th>\n",
       "      <td>5</td>\n",
       "      <td>Gonzalez, Jr., Pablo</td>\n",
       "      <td>4</td>\n",
       "      <td>8</td>\n",
       "      <td>1579</td>\n",
       "      <td>D</td>\n",
       "      <td>WC</td>\n",
       "      <td>0.005066</td>\n",
       "    </tr>\n",
       "    <tr>\n",
       "      <th>6</th>\n",
       "      <td>6</td>\n",
       "      <td>Stonier, Zachary</td>\n",
       "      <td>19</td>\n",
       "      <td>7</td>\n",
       "      <td>882</td>\n",
       "      <td>F</td>\n",
       "      <td>WC</td>\n",
       "      <td>0.007937</td>\n",
       "    </tr>\n",
       "    <tr>\n",
       "      <th>7</th>\n",
       "      <td>7</td>\n",
       "      <td>Perez-Cuellar, Erick</td>\n",
       "      <td>26</td>\n",
       "      <td>6</td>\n",
       "      <td>1258</td>\n",
       "      <td>M</td>\n",
       "      <td>WC</td>\n",
       "      <td>0.004769</td>\n",
       "    </tr>\n",
       "    <tr>\n",
       "      <th>8</th>\n",
       "      <td>8</td>\n",
       "      <td>Kobayashi, Riki</td>\n",
       "      <td>20</td>\n",
       "      <td>5</td>\n",
       "      <td>580</td>\n",
       "      <td>M/F</td>\n",
       "      <td>WC</td>\n",
       "      <td>0.008621</td>\n",
       "    </tr>\n",
       "    <tr>\n",
       "      <th>9</th>\n",
       "      <td>9</td>\n",
       "      <td>Taylor, Noa</td>\n",
       "      <td>12</td>\n",
       "      <td>5</td>\n",
       "      <td>261</td>\n",
       "      <td>F</td>\n",
       "      <td>WC</td>\n",
       "      <td>0.019157</td>\n",
       "    </tr>\n",
       "  </tbody>\n",
       "</table>\n",
       "</div>"
      ],
      "text/plain": [
       "   Unnamed: 0                Player  Number  Points  Minutes Position School  \\\n",
       "0           0     McAllister, Lucas       2      17     1112      M/F     WC   \n",
       "1           1      Gomez, Christian       8      16     1119        M     WC   \n",
       "2           2         Romero, Edwin       9      16     1216        F     WC   \n",
       "3           3        Valero, Sawyer       7      14     1068        F     WC   \n",
       "4           4        Burrill, Jacob      11      12      909        F     WC   \n",
       "5           5  Gonzalez, Jr., Pablo       4       8     1579        D     WC   \n",
       "6           6      Stonier, Zachary      19       7      882        F     WC   \n",
       "7           7  Perez-Cuellar, Erick      26       6     1258        M     WC   \n",
       "8           8       Kobayashi, Riki      20       5      580      M/F     WC   \n",
       "9           9           Taylor, Noa      12       5      261        F     WC   \n",
       "\n",
       "   Efficiency  \n",
       "0    0.015288  \n",
       "1    0.014298  \n",
       "2    0.013158  \n",
       "3    0.013109  \n",
       "4    0.013201  \n",
       "5    0.005066  \n",
       "6    0.007937  \n",
       "7    0.004769  \n",
       "8    0.008621  \n",
       "9    0.019157  "
      ]
     },
     "execution_count": 8,
     "metadata": {},
     "output_type": "execute_result"
    }
   ],
   "source": [
    "df_stats = pd.read_csv('NWC_Stats')\n",
    "df_stats.head(10)"
   ]
  },
  {
   "cell_type": "markdown",
   "id": "52c0f07e",
   "metadata": {},
   "source": [
    "## Recipe 2: Finding Unique Values in a Dataframe"
   ]
  },
  {
   "cell_type": "markdown",
   "id": "68b70ff2",
   "metadata": {},
   "source": [
    "To find the unique values in a column, you can use the .unique() function from pandas. This returns all the unique row values from the column. The .value_counts() function returns the number of each unique row value. This can also be a very useful function. Below is the code to do so. "
   ]
  },
  {
   "cell_type": "code",
   "execution_count": 9,
   "id": "2a722184",
   "metadata": {},
   "outputs": [
    {
     "data": {
      "text/plain": [
       "array(['M/F', 'M', 'F', 'D', 'D/M', 'GK'], dtype=object)"
      ]
     },
     "execution_count": 9,
     "metadata": {},
     "output_type": "execute_result"
    }
   ],
   "source": [
    "#Chooses the \"Position\" column and finds unique values\n",
    "df_stats[\"Position\"].unique()"
   ]
  },
  {
   "cell_type": "code",
   "execution_count": 13,
   "id": "b04ff2d7",
   "metadata": {},
   "outputs": [
    {
     "data": {
      "text/plain": [
       "M      19\n",
       "F      15\n",
       "D      15\n",
       "M/F     6\n",
       "GK      3\n",
       "D/M     1\n",
       "Name: Position, dtype: int64"
      ]
     },
     "execution_count": 13,
     "metadata": {},
     "output_type": "execute_result"
    }
   ],
   "source": [
    "#Chooses the \"Position\" column and finds the number of instances of each unique value\n",
    "df_stats[\"Position\"].value_counts()"
   ]
  },
  {
   "cell_type": "markdown",
   "id": "76abde49",
   "metadata": {},
   "source": [
    "## Recipe 3: Creating a visualization using seaborn"
   ]
  },
  {
   "cell_type": "markdown",
   "id": "5d67f59e",
   "metadata": {},
   "source": [
    "Visualizations are a very important tool to use in data analysis. Seaborn is one of the packages that can be used to create them. Seaborn is especially good because it contains many different plot types and allows for a lot of customization of the plots. Below I will demonstrate how to plot a strip plot using Seaborn. *note This requires the seaborn package. Use .install() to install seaborn if you have not already"
   ]
  },
  {
   "cell_type": "code",
   "execution_count": 18,
   "id": "6ea10953",
   "metadata": {},
   "outputs": [
    {
     "data": {
      "text/plain": [
       "Text(0.5, 1.0, 'Efficiency by Position')"
      ]
     },
     "execution_count": 18,
     "metadata": {},
     "output_type": "execute_result"
    },
    {
     "data": {
      "image/png": "[encoded data removed]",
      "text/plain": [
       "<Figure size 640x480 with 1 Axes>"
      ]
     },
     "metadata": {},
     "output_type": "display_data"
    }
   ],
   "source": [
    "#We choose to do a stripplot with x value Efficiency and y value position, colored by school\n",
    "sns.stripplot(x='Efficiency', y='Position', data=df_stats, size=10, hue = \"School\", palette='viridis', orient='h')\n",
    "#Creating labels using pyplot\n",
    "plt.xlabel('Efficiency')\n",
    "plt.ylabel('Position')\n",
    "plt.title('Efficiency by Position')"
   ]
  },
  {
   "cell_type": "markdown",
   "id": "dd760d87",
   "metadata": {},
   "source": [
    "## Recipe 4: Merging dataframes"
   ]
  },
  {
   "cell_type": "markdown",
   "id": "e034d2e4",
   "metadata": {},
   "source": [
    "To merge dataframes, use the function 'pd.merge()'. The first input is the first data frame to be merged, the second input is the other data frame to be merged, the third input is the column that will be used to merge on, and the last input is what type of merge you're doing. In this example, I inner join merged two data frames on the column \"Number\". This means that the merge only merges rows with the same \"Number\" value in both data frames. Note  that the column names must be the same in both data frames in order to merge on a column. "
   ]
  },
  {
   "cell_type": "code",
   "execution_count": 4,
   "id": "574ba43e",
   "metadata": {},
   "outputs": [],
   "source": [
    "#Creating df_1 and df_2 using dictionaries\n",
    "column_names_1 = {\"Number\":[1,2,3,4,5,6,7,8], \"Letter\": ['a','b','c','d','e','f','g','h']}\n",
    "column_names_2 = {\"Number\":[1,2,3,4,5,6], \"Symbol\": ['!','@','#','$','%','^']}\n",
    "df_1 = pd.DataFrame(column_names_1)\n",
    "df_2 = pd.DataFrame(column_names_2)"
   ]
  },
  {
   "cell_type": "code",
   "execution_count": 5,
   "id": "bc7bde6b",
   "metadata": {},
   "outputs": [],
   "source": [
    "#Implementing an inner join merge on the 'Number' column\n",
    "df = pd.merge(df_1, df_2, on = 'Number', how = 'inner')"
   ]
  },
  {
   "cell_type": "code",
   "execution_count": 6,
   "id": "8d27cb96",
   "metadata": {},
   "outputs": [
    {
     "data": {
      "text/html": [
       "<div>\n",
       "<style scoped>\n",
       "    .dataframe tbody tr th:only-of-type {\n",
       "        vertical-align: middle;\n",
       "    }\n",
       "\n",
       "    .dataframe tbody tr th {\n",
       "        vertical-align: top;\n",
       "    }\n",
       "\n",
       "    .dataframe thead th {\n",
       "        text-align: right;\n",
       "    }\n",
       "</style>\n",
       "<table border=\"1\" class=\"dataframe\">\n",
       "  <thead>\n",
       "    <tr style=\"text-align: right;\">\n",
       "      <th></th>\n",
       "      <th>Column_Name</th>\n",
       "      <th>Letter</th>\n",
       "      <th>Symbol</th>\n",
       "    </tr>\n",
       "  </thead>\n",
       "  <tbody>\n",
       "    <tr>\n",
       "      <th>0</th>\n",
       "      <td>1</td>\n",
       "      <td>a</td>\n",
       "      <td>!</td>\n",
       "    </tr>\n",
       "    <tr>\n",
       "      <th>1</th>\n",
       "      <td>2</td>\n",
       "      <td>b</td>\n",
       "      <td>@</td>\n",
       "    </tr>\n",
       "    <tr>\n",
       "      <th>2</th>\n",
       "      <td>3</td>\n",
       "      <td>c</td>\n",
       "      <td>#</td>\n",
       "    </tr>\n",
       "    <tr>\n",
       "      <th>3</th>\n",
       "      <td>4</td>\n",
       "      <td>d</td>\n",
       "      <td>$</td>\n",
       "    </tr>\n",
       "    <tr>\n",
       "      <th>4</th>\n",
       "      <td>5</td>\n",
       "      <td>e</td>\n",
       "      <td>%</td>\n",
       "    </tr>\n",
       "    <tr>\n",
       "      <th>5</th>\n",
       "      <td>6</td>\n",
       "      <td>f</td>\n",
       "      <td>^</td>\n",
       "    </tr>\n",
       "  </tbody>\n",
       "</table>\n",
       "</div>"
      ],
      "text/plain": [
       "   Column_Name Letter Symbol\n",
       "0            1      a      !\n",
       "1            2      b      @\n",
       "2            3      c      #\n",
       "3            4      d      $\n",
       "4            5      e      %\n",
       "5            6      f      ^"
      ]
     },
     "execution_count": 6,
     "metadata": {},
     "output_type": "execute_result"
    }
   ],
   "source": [
    "df"
   ]
  }
 ],
 "metadata": {
  "kernelspec": {
   "display_name": "Python 3 (ipykernel)",
   "language": "python",
   "name": "python3"
  },
  "language_info": {
   "codemirror_mode": {
    "name": "ipython",
    "version": 3
   },
   "file_extension": ".py",
   "mimetype": "text/x-python",
   "name": "python",
   "nbconvert_exporter": "python",
   "pygments_lexer": "ipython3",
   "version": "3.10.9"
  }
 },
 "nbformat": 4,
 "nbformat_minor": 5
}
